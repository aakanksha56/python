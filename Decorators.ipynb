{
 "cells": [
  {
   "cell_type": "code",
   "execution_count": null,
   "id": "3805a981-6f79-42ed-9605-4afb7602f652",
   "metadata": {},
   "outputs": [],
   "source": [
    "#Function withn "
   ]
  },
  {
   "cell_type": "code",
   "execution_count": 2,
   "id": "cad17bfc-46e9-481b-945c-ac715166d117",
   "metadata": {},
   "outputs": [],
   "source": [
    "def hello(name = 'Anu'):\n",
    "    print(\"The hello() has been executed\")\n",
    "    def greet():\n",
    "        return '\\t This is inside the greet()function'\n",
    "    def welcome():\n",
    "        return '\\t this is inside the welcome()function'\n",
    "    print(greet())\n",
    "    print(welcome())\n",
    "    print(\"Now we are back inside the hello() function\")"
   ]
  },
  {
   "cell_type": "code",
   "execution_count": 3,
   "id": "7fdd6bcd-4f5b-4be5-9d8d-16c916fbe15c",
   "metadata": {},
   "outputs": [
    {
     "name": "stdout",
     "output_type": "stream",
     "text": [
      "The hello() has been executed\n",
      "\t This is inside the greet()function\n",
      "\t this is inside the welcome()function\n",
      "Now we are back inside the hello() function\n"
     ]
    }
   ],
   "source": [
    "hello()"
   ]
  },
  {
   "cell_type": "code",
   "execution_count": 4,
   "id": "d621fbfc-2e0a-49b2-b471-aad0a39e39cf",
   "metadata": {},
   "outputs": [
    {
     "data": {
      "text/plain": [
       "<function __main__.hello(name='Anu')>"
      ]
     },
     "execution_count": 4,
     "metadata": {},
     "output_type": "execute_result"
    }
   ],
   "source": [
    "hello"
   ]
  },
  {
   "cell_type": "code",
   "execution_count": null,
   "id": "55c3b9c9-a961-4cd6-9754-51550aa36274",
   "metadata": {},
   "outputs": [],
   "source": []
  },
  {
   "cell_type": "code",
   "execution_count": null,
   "id": "ef9f17d7-58e2-4df5-9303-fac70a795149",
   "metadata": {},
   "outputs": [],
   "source": [
    "\n"
   ]
  },
  {
   "cell_type": "code",
   "execution_count": 2,
   "id": "8321209d-1b46-4bee-a944-dbe29a23a879",
   "metadata": {},
   "outputs": [],
   "source": [
    "#Returing Functions"
   ]
  },
  {
   "cell_type": "code",
   "execution_count": 16,
   "id": "725a6900-3e53-4844-b479-2ac69f765ef7",
   "metadata": {},
   "outputs": [],
   "source": [
    "def hello(name = 'Anu'):\n",
    "    print(\"The hello() has been executed\")\n",
    "    def greet():\n",
    "        return '\\t This is inside the greet()function'\n",
    "    def welcome():\n",
    "        return '\\t this is inside the welcome()function'\n",
    "    if name == \"Anu\":\n",
    "        return greet\n",
    "    else:\n",
    "        return welcome"
   ]
  },
  {
   "cell_type": "code",
   "execution_count": 17,
   "id": "1da27b65-010d-4b4e-9038-145a3760f0a5",
   "metadata": {},
   "outputs": [
    {
     "name": "stdout",
     "output_type": "stream",
     "text": [
      "The hello() has been executed\n"
     ]
    }
   ],
   "source": [
    "x = hello()"
   ]
  },
  {
   "cell_type": "code",
   "execution_count": 18,
   "id": "0e68809e-fc22-49d8-b4b1-eece1381b6e8",
   "metadata": {},
   "outputs": [
    {
     "name": "stdout",
     "output_type": "stream",
     "text": [
      "\t This is inside the greet()function\n"
     ]
    }
   ],
   "source": [
    "print(x())\n"
   ]
  },
  {
   "cell_type": "code",
   "execution_count": 19,
   "id": "55f3c41e-8efd-47df-8775-78bec41d8671",
   "metadata": {},
   "outputs": [],
   "source": [
    "def hello():\n",
    "    return 'hi Jitya'\n",
    "def other(func):\n",
    "    print(\"Other code will go here\")\n",
    "    print(func())\n"
   ]
  },
  {
   "cell_type": "code",
   "execution_count": 20,
   "id": "4150078b-c840-4210-a120-2bc3faa313cb",
   "metadata": {},
   "outputs": [
    {
     "name": "stdout",
     "output_type": "stream",
     "text": [
      "Other code will go here\n",
      "hi Jitya\n"
     ]
    }
   ],
   "source": [
    "other(hello)\n"
   ]
  },
  {
   "cell_type": "code",
   "execution_count": null,
   "id": "b568b3b1-ed03-400d-a848-8415d20a5006",
   "metadata": {},
   "outputs": [],
   "source": []
  },
  {
   "cell_type": "code",
   "execution_count": null,
   "id": "56bad06f-91f4-4fdd-8d7c-6bb1a9337105",
   "metadata": {},
   "outputs": [],
   "source": []
  },
  {
   "cell_type": "code",
   "execution_count": 1,
   "id": "c29792da-fa97-4f59-b6b4-fa1895a9cfe0",
   "metadata": {},
   "outputs": [],
   "source": [
    "#Creating a decorator"
   ]
  },
  {
   "cell_type": "code",
   "execution_count": 24,
   "id": "451b6455-991b-434d-b4be-d4067d9fefcc",
   "metadata": {},
   "outputs": [],
   "source": [
    "def new_decorator(func):\n",
    "    def wrap_func():\n",
    "        print(\"Code would be here before executing the func\")\n",
    "        func\n",
    "        print(\"Code here will execute  after the func()\")\n",
    "    return wrap_func\n",
    "def func_needs_decorator():\n",
    "    print(\"The function is in need of Decorator\")\n",
    "        "
   ]
  },
  {
   "cell_type": "code",
   "execution_count": 25,
   "id": "b9030276-5661-4400-b8f8-4c7c4a529907",
   "metadata": {},
   "outputs": [
    {
     "data": {
      "text/plain": [
       "<function __main__.func_needs_decorator()>"
      ]
     },
     "execution_count": 25,
     "metadata": {},
     "output_type": "execute_result"
    }
   ],
   "source": [
    "func_needs_decorator"
   ]
  },
  {
   "cell_type": "code",
   "execution_count": 26,
   "id": "0dcf28cd-0d5f-475a-8152-41bf139e9a64",
   "metadata": {},
   "outputs": [],
   "source": [
    "func_needs_decorator = new_decorator(func_needs_decorator)"
   ]
  },
  {
   "cell_type": "code",
   "execution_count": 27,
   "id": "bb112800-6403-4b45-96fc-c406bb73393a",
   "metadata": {},
   "outputs": [
    {
     "name": "stdout",
     "output_type": "stream",
     "text": [
      "Code would be here before executing the func\n",
      "Code here will execute  after the func()\n"
     ]
    }
   ],
   "source": [
    "func_needs_decorator()"
   ]
  },
  {
   "cell_type": "code",
   "execution_count": 32,
   "id": "f12dce9a-e427-4ff8-8535-0f8fff674a1b",
   "metadata": {},
   "outputs": [],
   "source": [
    "#@new_decorator\n",
    "def func_needs_decorator():\n",
    "    print(\"The function is in need of Decorator\")"
   ]
  },
  {
   "cell_type": "code",
   "execution_count": 33,
   "id": "03084ae2-1059-4de7-8236-820025e3b259",
   "metadata": {},
   "outputs": [
    {
     "name": "stdout",
     "output_type": "stream",
     "text": [
      "The function is in need of Decorator\n"
     ]
    }
   ],
   "source": [
    "func_needs_decorator()"
   ]
  },
  {
   "cell_type": "code",
   "execution_count": null,
   "id": "fbf4cfe6-03c7-46a3-90fb-58d80f8e3743",
   "metadata": {},
   "outputs": [],
   "source": []
  }
 ],
 "metadata": {
  "kernelspec": {
   "display_name": "Python 3 (ipykernel)",
   "language": "python",
   "name": "python3"
  },
  "language_info": {
   "codemirror_mode": {
    "name": "ipython",
    "version": 3
   },
   "file_extension": ".py",
   "mimetype": "text/x-python",
   "name": "python",
   "nbconvert_exporter": "python",
   "pygments_lexer": "ipython3",
   "version": "3.13.2"
  }
 },
 "nbformat": 4,
 "nbformat_minor": 5
}
